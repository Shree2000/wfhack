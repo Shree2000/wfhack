{
 "cells": [
  {
   "cell_type": "code",
   "execution_count": 1,
   "metadata": {},
   "outputs": [
    {
     "name": "stdout",
     "output_type": "stream",
     "text": [
      "Requirement already satisfied: pydub in c:\\users\\hp\\appdata\\local\\programs\\python\\python311\\lib\\site-packages (0.25.1)\n"
     ]
    },
    {
     "name": "stderr",
     "output_type": "stream",
     "text": [
      "\n",
      "[notice] A new release of pip is available: 23.2.1 -> 24.0\n",
      "[notice] To update, run: python.exe -m pip install --upgrade pip\n"
     ]
    }
   ],
   "source": [
    "!pip install pydub"
   ]
  },
  {
   "cell_type": "code",
   "execution_count": 5,
   "metadata": {},
   "outputs": [],
   "source": [
    "from pydub import AudioSegment\n",
    "import os\n",
    "\n",
    "# Function to split audio file into segments of 5 seconds each\n",
    "def split_audio(input_file, output_dir, segment_duration=5000):\n",
    "    audio = AudioSegment.from_wav(input_file)\n",
    "    duration = len(audio)\n",
    "    for i in range(0, duration, segment_duration):\n",
    "        segment = audio[i:i+segment_duration]\n",
    "        output_file = os.path.join(output_dir, f\"{os.path.splitext(os.path.basename(input_file))[0]}_{i//segment_duration}.wav\")\n",
    "        segment.export(output_file, format=\"wav\")\n",
    "\n",
    "# Preprocess directory of audio files\n",
    "def preprocess_directory(input_dir, output_dir):\n",
    "    # Ensure output directory exists\n",
    "    os.makedirs(output_dir, exist_ok=True)\n",
    "    # Process each audio file in the input directory\n",
    "    for filename in os.listdir(input_dir):\n",
    "        if filename.endswith(\".wav\"):\n",
    "            input_file = os.path.join(input_dir, filename)\n",
    "            split_audio(input_file, output_dir)\n",
    "\n",
    "# Example usage\n",
    "input_directory = \"synthetic-audio-train\"\n",
    "output_directory = \"synthetic-audio-train1\"\n",
    "preprocess_directory(input_directory, output_directory)\n"
   ]
  }
 ],
 "metadata": {
  "kernelspec": {
   "display_name": "Python 3",
   "language": "python",
   "name": "python3"
  },
  "language_info": {
   "codemirror_mode": {
    "name": "ipython",
    "version": 3
   },
   "file_extension": ".py",
   "mimetype": "text/x-python",
   "name": "python",
   "nbconvert_exporter": "python",
   "pygments_lexer": "ipython3",
   "version": "3.11.5"
  }
 },
 "nbformat": 4,
 "nbformat_minor": 2
}
