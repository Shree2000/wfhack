{
 "cells": [
  {
   "cell_type": "code",
   "execution_count": 3,
   "metadata": {},
   "outputs": [],
   "source": [
    "# Load the model and preprocess test data (similar to training data preprocessing)\n",
    "import os\n",
    "import numpy as np\n",
    "import librosa\n",
    "import tensorflow as tf\n",
    "from tensorflow.keras.models import load_model"
   ]
  },
  {
   "cell_type": "code",
   "execution_count": null,
   "metadata": {},
   "outputs": [],
   "source": [
    "#Training Model\n",
    "import os\n",
    "import librosa\n",
    "import numpy as np\n",
    "labels = {}\n",
    "def extract_features(audio_path, max_time_steps=109):\n",
    "    X = []\n",
    "    y = []\n",
    "\n",
    "    for folder in os.listdir(audio_path):\n",
    "        folder_path = os.path.join(audio_path, folder)\n",
    "        label = 1 if folder == \"Real\" else 0  # Update label based on directory name\n",
    "        \n",
    "        for file_name in os.listdir(folder_path):\n",
    "            file_path = os.path.join(folder_path, file_name)\n",
    "\n",
    "            try:\n",
    "                # Load audio file using librosa\n",
    "                audio, _ = librosa.load(file_path, sr=16000, duration=3)\n",
    "\n",
    "                # Extract Mel spectrogram using librosa\n",
    "                mel_spectrogram = librosa.feature.melspectrogram(y=audio, sr=16000, n_mels=128)\n",
    "                mel_spectrogram = librosa.power_to_db(mel_spectrogram, ref=np.max)\n",
    "\n",
    "                # Ensure all spectrograms have the same width (time steps)\n",
    "                if mel_spectrogram.shape[1] < max_time_steps:\n",
    "                    mel_spectrogram = np.pad(mel_spectrogram, ((0, 0), (0, max_time_steps - mel_spectrogram.shape[1])), mode='constant')\n",
    "                else:\n",
    "                    mel_spectrogram = mel_spectrogram[:, :max_time_steps]\n",
    "\n",
    "                X.append(mel_spectrogram)\n",
    "                y.append(label)\n",
    "                print(file_path)\n",
    "            except Exception as e:\n",
    "                print(f\"Error encountered while processing file: {file_path}\")\n",
    "                continue\n",
    "\n",
    "    return np.array(X), np.array(y)\n",
    "\n",
    "# Example usage\n",
    "audio_path = 'Traincnn'\n",
    "X, y = extract_features(audio_path)"
   ]
  },
  {
   "cell_type": "code",
   "execution_count": 16,
   "metadata": {},
   "outputs": [],
   "source": [
    "from keras.utils import to_categorical\n",
    "X = np.array(X)\n",
    "y = np.array(y)\n",
    "\n",
    "X,y\n",
    "y_encoded = to_categorical(y, 2)"
   ]
  },
  {
   "cell_type": "code",
   "execution_count": 32,
   "metadata": {},
   "outputs": [
    {
     "data": {
      "text/plain": [
       "array([0, 0, 0, ..., 1, 1, 1])"
      ]
     },
     "execution_count": 32,
     "metadata": {},
     "output_type": "execute_result"
    }
   ],
   "source": [
    "y"
   ]
  },
  {
   "cell_type": "code",
   "execution_count": 18,
   "metadata": {},
   "outputs": [],
   "source": [
    "split_index = int(0.8 * len(X))\n",
    "X_train, X_val = X[:split_index], X[split_index:]\n",
    "y_train, y_val = y_encoded[:split_index], y_encoded[split_index:]"
   ]
  },
  {
   "cell_type": "code",
   "execution_count": 33,
   "metadata": {},
   "outputs": [],
   "source": [
    "y_test1, y_val1 = y[:split_index], y[split_index:]"
   ]
  },
  {
   "cell_type": "code",
   "execution_count": null,
   "metadata": {},
   "outputs": [],
   "source": []
  },
  {
   "cell_type": "code",
   "execution_count": 4,
   "metadata": {},
   "outputs": [],
   "source": [
    "\n",
    "import os\n",
    "import numpy as np\n",
    "import librosa\n",
    "import tensorflow as tf\n",
    "from tensorflow.keras.layers import Input, Conv2D, MaxPooling2D, Flatten, Dense, Dropout\n",
    "from tensorflow.keras.models import Model\n"
   ]
  },
  {
   "cell_type": "code",
   "execution_count": 20,
   "metadata": {},
   "outputs": [],
   "source": [
    "# Define CNN model architecture\n",
    "N_MELS=128\n",
    "input_shape = (N_MELS, X_train.shape[2], 1)  # Input shape for CNN (height, width, channels)\n",
    "model_input = Input(shape=input_shape)"
   ]
  },
  {
   "cell_type": "code",
   "execution_count": 22,
   "metadata": {},
   "outputs": [],
   "source": [
    "\n",
    "x = Conv2D(32, kernel_size=(3, 3), activation='relu')(model_input)\n",
    "x = MaxPooling2D(pool_size=(2, 2))(x)\n",
    "x = Conv2D(64, kernel_size=(3, 3), activation='relu')(x)\n",
    "x = MaxPooling2D(pool_size=(2, 2))(x)\n",
    "x = Flatten()(x)\n",
    "x = Dense(128, activation='relu')(x)\n",
    "x = Dropout(0.5)(x)\n",
    "model_output = Dense(2, activation='softmax')(x)"
   ]
  },
  {
   "cell_type": "code",
   "execution_count": 23,
   "metadata": {},
   "outputs": [],
   "source": [
    "model = Model(inputs=model_input, outputs=model_output)"
   ]
  },
  {
   "cell_type": "code",
   "execution_count": 24,
   "metadata": {},
   "outputs": [],
   "source": [
    "model.compile(optimizer='adam', loss='categorical_crossentropy', metrics=['accuracy'])\n"
   ]
  },
  {
   "cell_type": "code",
   "execution_count": 25,
   "metadata": {},
   "outputs": [
    {
     "name": "stdout",
     "output_type": "stream",
     "text": [
      "Epoch 1/10\n",
      "\u001b[1m155/155\u001b[0m \u001b[32m━━━━━━━━━━━━━━━━━━━━\u001b[0m\u001b[37m\u001b[0m \u001b[1m34s\u001b[0m 201ms/step - accuracy: 0.9316 - loss: 12.6376 - val_accuracy: 0.9927 - val_loss: 0.0178\n",
      "Epoch 2/10\n",
      "\u001b[1m155/155\u001b[0m \u001b[32m━━━━━━━━━━━━━━━━━━━━\u001b[0m\u001b[37m\u001b[0m \u001b[1m30s\u001b[0m 192ms/step - accuracy: 0.9960 - loss: 0.0152 - val_accuracy: 0.9952 - val_loss: 0.0138\n",
      "Epoch 3/10\n",
      "\u001b[1m155/155\u001b[0m \u001b[32m━━━━━━━━━━━━━━━━━━━━\u001b[0m\u001b[37m\u001b[0m \u001b[1m29s\u001b[0m 189ms/step - accuracy: 0.9952 - loss: 0.0123 - val_accuracy: 0.9887 - val_loss: 0.0343\n",
      "Epoch 4/10\n",
      "\u001b[1m155/155\u001b[0m \u001b[32m━━━━━━━━━━━━━━━━━━━━\u001b[0m\u001b[37m\u001b[0m \u001b[1m29s\u001b[0m 189ms/step - accuracy: 0.9968 - loss: 0.0140 - val_accuracy: 0.9968 - val_loss: 0.0055\n",
      "Epoch 5/10\n",
      "\u001b[1m155/155\u001b[0m \u001b[32m━━━━━━━━━━━━━━━━━━━━\u001b[0m\u001b[37m\u001b[0m \u001b[1m30s\u001b[0m 194ms/step - accuracy: 0.9992 - loss: 0.0027 - val_accuracy: 0.9984 - val_loss: 0.0020\n",
      "Epoch 6/10\n",
      "\u001b[1m155/155\u001b[0m \u001b[32m━━━━━━━━━━━━━━━━━━━━\u001b[0m\u001b[37m\u001b[0m \u001b[1m30s\u001b[0m 191ms/step - accuracy: 0.9981 - loss: 0.0065 - val_accuracy: 0.9935 - val_loss: 0.0207\n",
      "Epoch 7/10\n",
      "\u001b[1m155/155\u001b[0m \u001b[32m━━━━━━━━━━━━━━━━━━━━\u001b[0m\u001b[37m\u001b[0m \u001b[1m29s\u001b[0m 189ms/step - accuracy: 0.9988 - loss: 0.0036 - val_accuracy: 0.9968 - val_loss: 0.0089\n",
      "Epoch 8/10\n",
      "\u001b[1m155/155\u001b[0m \u001b[32m━━━━━━━━━━━━━━━━━━━━\u001b[0m\u001b[37m\u001b[0m \u001b[1m29s\u001b[0m 190ms/step - accuracy: 0.9986 - loss: 0.0040 - val_accuracy: 1.0000 - val_loss: 2.6172e-04\n",
      "Epoch 9/10\n",
      "\u001b[1m155/155\u001b[0m \u001b[32m━━━━━━━━━━━━━━━━━━━━\u001b[0m\u001b[37m\u001b[0m \u001b[1m32s\u001b[0m 204ms/step - accuracy: 0.9948 - loss: 0.0233 - val_accuracy: 0.9984 - val_loss: 0.0053\n",
      "Epoch 10/10\n",
      "\u001b[1m155/155\u001b[0m \u001b[32m━━━━━━━━━━━━━━━━━━━━\u001b[0m\u001b[37m\u001b[0m \u001b[1m29s\u001b[0m 185ms/step - accuracy: 0.9995 - loss: 0.0020 - val_accuracy: 0.9944 - val_loss: 0.0130\n"
     ]
    },
    {
     "data": {
      "text/plain": [
       "<keras.src.callbacks.history.History at 0x1745b011250>"
      ]
     },
     "execution_count": 25,
     "metadata": {},
     "output_type": "execute_result"
    }
   ],
   "source": [
    "model.fit(X_train, y_train, batch_size=32, epochs=10, validation_data=(X_val, y_val))"
   ]
  },
  {
   "cell_type": "code",
   "execution_count": 26,
   "metadata": {},
   "outputs": [
    {
     "name": "stderr",
     "output_type": "stream",
     "text": [
      "WARNING:absl:You are saving your model as an HDF5 file via `model.save()` or `keras.saving.save_model(model)`. This file format is considered legacy. We recommend using instead the native Keras format, e.g. `model.save('my_model.keras')` or `keras.saving.save_model(model, 'my_model.keras')`. \n"
     ]
    }
   ],
   "source": [
    "# saving the model\n",
    "model.save(\"audio_classifier_cnn.h5\")"
   ]
  },
  {
   "cell_type": "code",
   "execution_count": 29,
   "metadata": {},
   "outputs": [],
   "source": [
    "\n",
    "import matplotlib.pyplot as plt\n",
    "from sklearn.metrics import confusion_matrix, ConfusionMatrixDisplay"
   ]
  },
  {
   "cell_type": "code",
   "execution_count": 24,
   "metadata": {},
   "outputs": [
    {
     "name": "stdout",
     "output_type": "stream",
     "text": [
      "\u001b[1m2/2\u001b[0m \u001b[32m━━━━━━━━━━━━━━━━━━━━\u001b[0m\u001b[37m\u001b[0m \u001b[1m0s\u001b[0m 32ms/step\n"
     ]
    },
    {
     "data": {
      "text/plain": [
       "array([[1.1361549e-03, 9.9886382e-01],\n",
       "       [6.0165148e-05, 9.9993980e-01],\n",
       "       [1.6117141e-01, 8.3882856e-01],\n",
       "       [9.4402373e-01, 5.5976324e-02],\n",
       "       [9.9997663e-01, 2.3319533e-05],\n",
       "       [6.5947454e-03, 9.9340522e-01],\n",
       "       [1.3998023e-01, 8.6001980e-01],\n",
       "       [8.8895095e-04, 9.9911100e-01],\n",
       "       [7.2926625e-05, 9.9992704e-01],\n",
       "       [4.2612876e-07, 9.9999952e-01],\n",
       "       [1.7187633e-06, 9.9999833e-01],\n",
       "       [6.4715495e-09, 1.0000000e+00],\n",
       "       [8.2506635e-04, 9.9917489e-01],\n",
       "       [7.7339755e-03, 9.9226600e-01],\n",
       "       [2.1664132e-03, 9.9783355e-01],\n",
       "       [3.9733879e-02, 9.6026611e-01],\n",
       "       [8.1424344e-01, 1.8575652e-01],\n",
       "       [3.8978624e-01, 6.1021382e-01],\n",
       "       [1.2324073e-02, 9.8767591e-01],\n",
       "       [1.1153588e-01, 8.8846409e-01],\n",
       "       [9.8852791e-02, 9.0114719e-01],\n",
       "       [3.9366145e-07, 9.9999964e-01],\n",
       "       [6.2269820e-03, 9.9377304e-01],\n",
       "       [4.7326729e-01, 5.2673268e-01],\n",
       "       [9.9987590e-01, 1.2404934e-04],\n",
       "       [9.9614429e-01, 3.8556345e-03],\n",
       "       [9.9999869e-01, 1.2703794e-06],\n",
       "       [9.9965513e-01, 3.4492256e-04],\n",
       "       [9.9995410e-01, 4.5919103e-05],\n",
       "       [9.9984503e-01, 1.5499820e-04],\n",
       "       [9.9740344e-01, 2.5965679e-03],\n",
       "       [9.9999738e-01, 2.6491919e-06],\n",
       "       [9.9453521e-01, 5.4647811e-03],\n",
       "       [9.9712569e-01, 2.8743139e-03],\n",
       "       [9.9879789e-01, 1.2020315e-03],\n",
       "       [9.9998367e-01, 1.6385986e-05],\n",
       "       [9.9985182e-01, 1.4819187e-04],\n",
       "       [9.9987495e-01, 1.2504980e-04],\n",
       "       [9.0432227e-01, 9.5677786e-02],\n",
       "       [9.8769635e-01, 1.2303654e-02],\n",
       "       [9.9999881e-01, 1.1347571e-06]], dtype=float32)"
      ]
     },
     "execution_count": 24,
     "metadata": {},
     "output_type": "execute_result"
    }
   ],
   "source": [
    "# Load and preprocess test data using librosa\n",
    "X_test = []\n",
    "\n",
    "test_files = os.listdir(TEST_DATASET_PATH)\n",
    "for file_name in test_files:\n",
    "    file_path = os.path.join(TEST_DATASET_PATH, file_name)\n",
    "\n",
    "    # Load audio file using librosa\n",
    "    audio, _ = librosa.load(file_path, sr=SAMPLE_RATE, duration=DURATION)\n",
    "\n",
    "    # Extract Mel spectrogram using librosa\n",
    "    mel_spectrogram = librosa.feature.melspectrogram(y=audio, sr=SAMPLE_RATE, n_mels=N_MELS)\n",
    "    mel_spectrogram = librosa.power_to_db(mel_spectrogram, ref=np.max)\n",
    "\n",
    "    # Ensure all spectrograms have the same width (time steps)\n",
    "    if mel_spectrogram.shape[1] < MAX_TIME_STEPS:\n",
    "        mel_spectrogram = np.pad(mel_spectrogram, ((0, 0), (0, MAX_TIME_STEPS - mel_spectrogram.shape[1])), mode='constant')\n",
    "    else:\n",
    "        mel_spectrogram = mel_spectrogram[:, :MAX_TIME_STEPS]\n",
    "\n",
    "    X_test.append(mel_spectrogram)\n",
    "\n",
    "# Convert list to numpy array\n",
    "X_test = np.array(X_test)\n",
    "\n",
    "# Predict using the loaded model\n",
    "y_pred = model.predict(X_test)\n",
    "\n",
    "# Convert probabilities to predicted classes\n",
    "y_pred_classes = np.argmax(y_pred, axis=1)\n",
    "\n",
    "y_pred"
   ]
  },
  {
   "cell_type": "code",
   "execution_count": 25,
   "metadata": {},
   "outputs": [
    {
     "data": {
      "text/plain": [
       "array([1, 1, 1, 0, 0, 1, 1, 1, 1, 1, 1, 1, 1, 1, 1, 1, 0, 1, 1, 1, 1, 1,\n",
       "       1, 1, 0, 0, 0, 0, 0, 0, 0, 0, 0, 0, 0, 0, 0, 0, 0, 0, 0],\n",
       "      dtype=int64)"
      ]
     },
     "execution_count": 25,
     "metadata": {},
     "output_type": "execute_result"
    }
   ],
   "source": [
    "y_pred_classes"
   ]
  },
  {
   "cell_type": "code",
   "execution_count": 34,
   "metadata": {},
   "outputs": [
    {
     "data": {
      "text/plain": [
       "array([1, 1, 1, ..., 1, 1, 1])"
      ]
     },
     "execution_count": 34,
     "metadata": {},
     "output_type": "execute_result"
    }
   ],
   "source": [
    "y_val1"
   ]
  },
  {
   "cell_type": "code",
   "execution_count": 30,
   "metadata": {},
   "outputs": [
    {
     "name": "stdout",
     "output_type": "stream",
     "text": [
      "\u001b[1m2/2\u001b[0m \u001b[32m━━━━━━━━━━━━━━━━━━━━\u001b[0m\u001b[37m\u001b[0m \u001b[1m0s\u001b[0m 4ms/step \n"
     ]
    }
   ],
   "source": [
    "# ROC Curve\n",
    "\n",
    "from sklearn.metrics import roc_curve, auc\n",
    "\n",
    "# Predict using the loaded model\n",
    "y_pred = model.predict(X_test)\n",
    "\n",
    "# Get the predicted probabilities for the positive class\n",
    "y_pred_prob = y_pred[:, 1]\n"
   ]
  },
  {
   "cell_type": "code",
   "execution_count": 45,
   "metadata": {},
   "outputs": [
    {
     "data": {
      "text/plain": [
       "array([1, 1, 1, ..., 1, 1, 1])"
      ]
     },
     "execution_count": 45,
     "metadata": {},
     "output_type": "execute_result"
    }
   ],
   "source": [
    "y_val1"
   ]
  },
  {
   "cell_type": "code",
   "execution_count": 31,
   "metadata": {},
   "outputs": [
    {
     "data": {
      "image/png": "[encoded data removed]",
      "text/plain": [
       "<Figure size 640x480 with 2 Axes>"
      ]
     },
     "metadata": {},
     "output_type": "display_data"
    }
   ],
   "source": [
    "y_pred_classes = np.argmax(y_pred, axis=1)\n",
    "cm = confusion_matrix(y_true, y_pred_classes)\n",
    "\n",
    "# Display the confusion matrix\n",
    "classes = [\"spoof\", \"bonafide\"]\n",
    "disp = ConfusionMatrixDisplay(confusion_matrix=cm, display_labels=classes)\n",
    "disp.plot(cmap=plt.cm.Blues)\n",
    "plt.title(\"Confusion Matrix\")\n",
    "plt.show()"
   ]
  },
  {
   "cell_type": "code",
   "execution_count": 46,
   "metadata": {},
   "outputs": [
    {
     "data": {
      "text/plain": [
       "array([0.99941885, 0.999522  , 0.9998964 , ..., 0.99839646, 0.99998784,\n",
       "       0.99998045], dtype=float32)"
      ]
     },
     "execution_count": 46,
     "metadata": {},
     "output_type": "execute_result"
    }
   ],
   "source": [
    "y_pred_prob"
   ]
  },
  {
   "cell_type": "code",
   "execution_count": 32,
   "metadata": {},
   "outputs": [
    {
     "data": {
      "image/png": "[encoded data removed]",
      "text/plain": [
       "<Figure size 640x480 with 1 Axes>"
      ]
     },
     "metadata": {},
     "output_type": "display_data"
    }
   ],
   "source": [
    "\n",
    "# Compute ROC curve and AUC\n",
    "fpr, tpr, _ = roc_curve(y_true, y_pred_prob)\n",
    "roc_auc = auc(fpr, tpr)\n",
    "\n",
    "# Plot ROC curve\n",
    "plt.figure()\n",
    "plt.plot(fpr, tpr, color='darkorange', lw=2, label='ROC curve (area = %0.2f)' % roc_auc)\n",
    "plt.plot([0, 1], [0, 1], color='navy', lw=2, linestyle='--')\n",
    "plt.xlim([0.0, 1.0])\n",
    "plt.ylim([0.0, 1.05])\n",
    "plt.xlabel('False Positive Rate')\n",
    "plt.ylabel('True Positive Rate')\n",
    "plt.title('Receiver Operating Characteristic')\n",
    "plt.legend(loc=\"lower right\")\n",
    "plt.show()"
   ]
  },
  {
   "cell_type": "code",
   "execution_count": 5,
   "metadata": {},
   "outputs": [],
   "source": [
    "TEST_DATASET_PATH = \"./Test_cnn\"\n",
    "MODEL_PATH = \"audio_classifier_cnn.h5\"  # Replace with the actual path to your saved model\n",
    "SAMPLE_RATE = 16000\n",
    "DURATION = 5\n",
    "N_MELS = 128\n",
    "MAX_TIME_STEPS = 109"
   ]
  },
  {
   "cell_type": "code",
   "execution_count": 6,
   "metadata": {},
   "outputs": [
    {
     "name": "stderr",
     "output_type": "stream",
     "text": [
      "WARNING:absl:Compiled the loaded model, but the compiled metrics have yet to be built. `model.compile_metrics` will be empty until you train or evaluate the model.\n"
     ]
    }
   ],
   "source": [
    "# Load the saved model\n",
    "model = load_model(MODEL_PATH)"
   ]
  },
  {
   "cell_type": "code",
   "execution_count": 17,
   "metadata": {},
   "outputs": [
    {
     "name": "stdout",
     "output_type": "stream",
     "text": [
      "\u001b[1m2/2\u001b[0m \u001b[32m━━━━━━━━━━━━━━━━━━━━\u001b[0m\u001b[37m\u001b[0m \u001b[1m0s\u001b[0m 31ms/step\n"
     ]
    },
    {
     "data": {
      "text/plain": [
       "array([[1.1361549e-03, 9.9886382e-01],\n",
       "       [6.0165148e-05, 9.9993980e-01],\n",
       "       [1.6117141e-01, 8.3882856e-01],\n",
       "       [9.4402373e-01, 5.5976324e-02],\n",
       "       [9.9997663e-01, 2.3319533e-05],\n",
       "       [6.5947454e-03, 9.9340522e-01],\n",
       "       [1.3998023e-01, 8.6001980e-01],\n",
       "       [8.8895095e-04, 9.9911100e-01],\n",
       "       [7.2926625e-05, 9.9992704e-01],\n",
       "       [4.2612876e-07, 9.9999952e-01],\n",
       "       [1.7187633e-06, 9.9999833e-01],\n",
       "       [6.4715495e-09, 1.0000000e+00],\n",
       "       [8.2506635e-04, 9.9917489e-01],\n",
       "       [7.7339755e-03, 9.9226600e-01],\n",
       "       [2.1664132e-03, 9.9783355e-01],\n",
       "       [3.9733879e-02, 9.6026611e-01],\n",
       "       [8.1424344e-01, 1.8575652e-01],\n",
       "       [3.8978624e-01, 6.1021382e-01],\n",
       "       [1.2324073e-02, 9.8767591e-01],\n",
       "       [1.1153588e-01, 8.8846409e-01],\n",
       "       [9.8852791e-02, 9.0114719e-01],\n",
       "       [3.9366145e-07, 9.9999964e-01],\n",
       "       [6.2269820e-03, 9.9377304e-01],\n",
       "       [4.7326729e-01, 5.2673268e-01],\n",
       "       [9.9987590e-01, 1.2404934e-04],\n",
       "       [9.9614429e-01, 3.8556345e-03],\n",
       "       [9.9999869e-01, 1.2703794e-06],\n",
       "       [9.9965513e-01, 3.4492256e-04],\n",
       "       [9.9995410e-01, 4.5919103e-05],\n",
       "       [9.9984503e-01, 1.5499820e-04],\n",
       "       [9.9740344e-01, 2.5965679e-03],\n",
       "       [9.9999738e-01, 2.6491919e-06],\n",
       "       [9.9453521e-01, 5.4647811e-03],\n",
       "       [9.9712569e-01, 2.8743139e-03],\n",
       "       [9.9879789e-01, 1.2020315e-03],\n",
       "       [9.9998367e-01, 1.6385986e-05],\n",
       "       [9.9985182e-01, 1.4819187e-04],\n",
       "       [9.9987495e-01, 1.2504980e-04],\n",
       "       [9.0432227e-01, 9.5677786e-02],\n",
       "       [9.8769635e-01, 1.2303654e-02],\n",
       "       [9.9999881e-01, 1.1347571e-06]], dtype=float32)"
      ]
     },
     "execution_count": 17,
     "metadata": {},
     "output_type": "execute_result"
    }
   ],
   "source": [
    "# Load and preprocess test data using librosa\n",
    "X_test = []\n",
    "\n",
    "test_files = os.listdir(TEST_DATASET_PATH)\n",
    "for file_name in test_files:\n",
    "    file_path = os.path.join(TEST_DATASET_PATH, file_name)\n",
    "\n",
    "    # Load audio file using librosa\n",
    "    audio, _ = librosa.load(file_path, sr=SAMPLE_RATE, duration=DURATION)\n",
    "\n",
    "    # Extract Mel spectrogram using librosa\n",
    "    mel_spectrogram = librosa.feature.melspectrogram(y=audio, sr=SAMPLE_RATE, n_mels=N_MELS)\n",
    "    mel_spectrogram = librosa.power_to_db(mel_spectrogram, ref=np.max)\n",
    "\n",
    "    # Ensure all spectrograms have the same width (time steps)\n",
    "    if mel_spectrogram.shape[1] < MAX_TIME_STEPS:\n",
    "        mel_spectrogram = np.pad(mel_spectrogram, ((0, 0), (0, MAX_TIME_STEPS - mel_spectrogram.shape[1])), mode='constant')\n",
    "    else:\n",
    "        mel_spectrogram = mel_spectrogram[:, :MAX_TIME_STEPS]\n",
    "\n",
    "    X_test.append(mel_spectrogram)\n",
    "\n",
    "# Convert list to numpy array\n",
    "X_test = np.array(X_test)\n",
    "\n",
    "# Predict using the loaded model\n",
    "y_pred = model.predict(X_test)\n",
    "\n",
    "# Convert probabilities to predicted classes\n",
    "y_pred_classes = np.argmax(y_pred, axis=1)\n",
    "\n",
    "y_pred"
   ]
  },
  {
   "cell_type": "code",
   "execution_count": 18,
   "metadata": {},
   "outputs": [
    {
     "data": {
      "text/plain": [
       "41"
      ]
     },
     "execution_count": 18,
     "metadata": {},
     "output_type": "execute_result"
    }
   ],
   "source": [
    "len(y_pred_classes)"
   ]
  },
  {
   "cell_type": "code",
   "execution_count": 19,
   "metadata": {},
   "outputs": [
    {
     "data": {
      "text/plain": [
       "array([1, 1, 1, 0, 0, 1, 1, 1, 1, 1, 1, 1, 1, 1, 1, 1, 0, 1, 1, 1, 1, 1,\n",
       "       1, 1, 0, 0, 0, 0, 0, 0, 0, 0, 0, 0, 0, 0, 0, 0, 0, 0, 0],\n",
       "      dtype=int64)"
      ]
     },
     "execution_count": 19,
     "metadata": {},
     "output_type": "execute_result"
    }
   ],
   "source": [
    "y_pred_classes"
   ]
  },
  {
   "cell_type": "code",
   "execution_count": 22,
   "metadata": {},
   "outputs": [],
   "source": [
    "y_true=np.array(y_true)"
   ]
  },
  {
   "cell_type": "code",
   "execution_count": 23,
   "metadata": {},
   "outputs": [
    {
     "data": {
      "text/plain": [
       "array([1, 1, 1, 1, 1, 1, 1, 1, 1, 1, 1, 1, 1, 1, 1, 1, 1, 1, 1, 1, 1, 1,\n",
       "       1, 1, 0, 0, 0, 0, 0, 0, 0, 0, 0, 0, 0, 0, 0, 0, 0, 0, 0])"
      ]
     },
     "execution_count": 23,
     "metadata": {},
     "output_type": "execute_result"
    }
   ],
   "source": [
    "y_true"
   ]
  },
  {
   "cell_type": "code",
   "execution_count": 15,
   "metadata": {},
   "outputs": [],
   "source": [
    "y_true = [1 if i < 24 else 0 for i in range(41)]"
   ]
  },
  {
   "cell_type": "code",
   "execution_count": 16,
   "metadata": {},
   "outputs": [
    {
     "data": {
      "text/plain": [
       "[1,\n",
       " 1,\n",
       " 1,\n",
       " 1,\n",
       " 1,\n",
       " 1,\n",
       " 1,\n",
       " 1,\n",
       " 1,\n",
       " 1,\n",
       " 1,\n",
       " 1,\n",
       " 1,\n",
       " 1,\n",
       " 1,\n",
       " 1,\n",
       " 1,\n",
       " 1,\n",
       " 1,\n",
       " 1,\n",
       " 1,\n",
       " 1,\n",
       " 1,\n",
       " 1,\n",
       " 0,\n",
       " 0,\n",
       " 0,\n",
       " 0,\n",
       " 0,\n",
       " 0,\n",
       " 0,\n",
       " 0,\n",
       " 0,\n",
       " 0,\n",
       " 0,\n",
       " 0,\n",
       " 0,\n",
       " 0,\n",
       " 0,\n",
       " 0,\n",
       " 0]"
      ]
     },
     "execution_count": 16,
     "metadata": {},
     "output_type": "execute_result"
    }
   ],
   "source": [
    "y_true "
   ]
  },
  {
   "cell_type": "code",
   "execution_count": 60,
   "metadata": {},
   "outputs": [
    {
     "data": {
      "text/plain": [
       "173"
      ]
     },
     "execution_count": 60,
     "metadata": {},
     "output_type": "execute_result"
    }
   ],
   "source": [
    "len(y_pred_classes)"
   ]
  }
 ],
 "metadata": {
  "kernelspec": {
   "display_name": "Python 3",
   "language": "python",
   "name": "python3"
  },
  "language_info": {
   "codemirror_mode": {
    "name": "ipython",
    "version": 3
   },
   "file_extension": ".py",
   "mimetype": "text/x-python",
   "name": "python",
   "nbconvert_exporter": "python",
   "pygments_lexer": "ipython3",
   "version": "3.11.5"
  }
 },
 "nbformat": 4,
 "nbformat_minor": 2
}
